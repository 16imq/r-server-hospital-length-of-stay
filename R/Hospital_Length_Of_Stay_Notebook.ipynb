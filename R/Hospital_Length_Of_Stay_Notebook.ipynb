{
 "cells": [
  {
   "cell_type": "markdown",
   "metadata": {},
   "source": [
    "# Hospital Length of Stay\n",
    "\n",
    "In order for hospitals to optimize resource allocation, it is important to predict accurately how long a newly admitted patient will stay in the hospital.\n",
    "\n",
    "This notebook takes advantage of the power of SQL Server and RevoScaleR (Microsoft R Server). The tables are all stored in a SQL Server, and most of the computations are done by loading chunks of data in-memory instead of the whole dataset.\n",
    "\n",
    "It does the following: \n",
    "\n",
    " * **Step 0: Packages and Compute Contexts**\n",
    " * **Step 1: Processing and Cleaning**\n",
    " * **Step 2: Feature Engineering**\n",
    " * **Step 3A: Training and Evalutating a Random Forest (Classification Approach)**\n",
    " * **Step 3B: Training and Evalutating a Random Forest (Regression Approach)**"
   ]
  },
  {
   "cell_type": "markdown",
   "metadata": {},
   "source": [
    "## Step 0: Packages and Compute Contexts\n",
    "\n",
    "#### In this step, we set up the connection string to access a SQL Server Database and load the necessary library. "
   ]
  },
  {
   "cell_type": "code",
   "execution_count": 133,
   "metadata": {
    "collapsed": true
   },
   "outputs": [],
   "source": [
    "# WARNING.\n",
    "# We recommend not using Internet Explorer as it does not support plotting, and may crash your session."
   ]
  },
  {
   "cell_type": "code",
   "execution_count": 1,
   "metadata": {
    "collapsed": false
   },
   "outputs": [],
   "source": [
    "# Load package.\n",
    "library(RevoScaleR)"
   ]
  },
  {
   "cell_type": "code",
   "execution_count": 2,
   "metadata": {
    "collapsed": false
   },
   "outputs": [
    {
     "data": {
      "text/html": [
       "TRUE"
      ],
      "text/latex": [
       "TRUE"
      ],
      "text/markdown": [
       "TRUE"
      ],
      "text/plain": [
       "[1] TRUE"
      ]
     },
     "execution_count": 2,
     "metadata": {},
     "output_type": "execute_result"
    },
    {
     "data": {
      "text/html": [
       "TRUE"
      ],
      "text/latex": [
       "TRUE"
      ],
      "text/markdown": [
       "TRUE"
      ],
      "text/plain": [
       "[1] TRUE"
      ]
     },
     "execution_count": 2,
     "metadata": {},
     "output_type": "execute_result"
    }
   ],
   "source": [
    "# Choose a database name and create it. \n",
    "db <- \"Hospital\"\n",
    "\n",
    "## Connect to the master database only to create a new database. Change UID and PWD if you modified them. \n",
    "connection_string <- \"Driver=SQL Server;Server=localhost;Database=master;UID=rdemo;PWD=D@tascience\"\n",
    "\n",
    "## Open a connection with SQL Server to be able to write queries with the rxExecuteSQLDDL function.\n",
    "outOdbcDS <- RxOdbcData(table = \"NewData\", connectionString = connection_string, useFastRead=TRUE)\n",
    "rxOpen(outOdbcDS, \"w\")\n",
    "\n",
    "query <- sprintf( \"if not exists(SELECT * FROM sys.databases WHERE name = '%s') CREATE DATABASE %s;\", db, db)\n",
    "\n",
    "## Create database. \n",
    "rxExecuteSQLDDL(outOdbcDS, sSQLString = query)"
   ]
  },
  {
   "cell_type": "code",
   "execution_count": 3,
   "metadata": {
    "collapsed": false
   },
   "outputs": [
    {
     "data": {
      "text/html": [
       "TRUE"
      ],
      "text/latex": [
       "TRUE"
      ],
      "text/markdown": [
       "TRUE"
      ],
      "text/plain": [
       "[1] TRUE"
      ]
     },
     "execution_count": 3,
     "metadata": {},
     "output_type": "execute_result"
    }
   ],
   "source": [
    "# Define Compute Contexts: user to input Server Name, database name, UID and Password. \n",
    "connection_string <- sprintf(\"Driver=SQL Server;Server=localhost;Database=%s;UID=rdemo;PWD=D@tascience\", db)\n",
    "sql <- RxInSqlServer(connectionString = connection_string)\n",
    "local <- RxLocalSeq()\n",
    "\n",
    "## Open a connection with SQL Server to be able to write queries with the rxExecuteSQLDDL function in the new database.\n",
    "outOdbcDS <- RxOdbcData(table = \"NewData\", connectionString = connection_string, useFastRead=TRUE)\n",
    "rxOpen(outOdbcDS, \"w\")"
   ]
  },
  {
   "cell_type": "markdown",
   "metadata": {},
   "source": [
    "#### The function below can be used to get the top n rows of a table stored on SQL Server. \n",
    "#### You can execute this cell throughout your progress by removing the comment \"#\", and inputting:\n",
    "#### - the table name.\n",
    "#### - the number of rows you want to display."
   ]
  },
  {
   "cell_type": "code",
   "execution_count": 4,
   "metadata": {
    "collapsed": false
   },
   "outputs": [],
   "source": [
    " display_head <- function(table_name, n_rows){\n",
    "   table_sql <- RxSqlServerData(sqlQuery = sprintf(\"SELECT TOP(%s) * FROM %s\", n_rows, table_name), connectionString = connection_string)\n",
    "   table <- rxImport(table_sql)\n",
    "   print(table)\n",
    "}\n",
    "\n",
    "# table_name <- \"insert_table_name\"\n",
    "# n_rows <- 10\n",
    "# display_head(table_name, n_rows)"
   ]
  },
  {
   "cell_type": "markdown",
   "metadata": {},
   "source": [
    "## Step 1: Pre-Processing and Cleaning\n",
    "\n",
    "In this step, we: \n",
    "\n",
    "**1.** Upload the data set to SQL.\n",
    "\n",
    "**2.** Clean the merged data set: we replace NAs with the mode (categorical variables) or mean (continuous variables).\n",
    "\n",
    "**Input:**  Data Set LengthOfStay.csv\n",
    "\n",
    "**Output:** Cleaned raw data set LoS."
   ]
  },
  {
   "cell_type": "code",
   "execution_count": 5,
   "metadata": {
    "collapsed": true
   },
   "outputs": [],
   "source": [
    "# Set the compute context to Local. \n",
    "rxSetComputeContext(local)"
   ]
  },
  {
   "cell_type": "code",
   "execution_count": 7,
   "metadata": {
    "collapsed": false,
    "scrolled": false
   },
   "outputs": [
    {
     "name": "stdout",
     "output_type": "stream",
     "text": [
      "Rows Read: 100000, Total Rows Processed: 100000, Total Chunk Time: 2.172 seconds \n",
      "\n",
      "Elapsed time to compute low/high values and/or factor levels: 2.441 secs.\n",
      " \n",
      "Total Rows written: 100000, Total time: 7.719\n",
      "Rows Read: 100000, Total Rows Processed: 100000, Total Chunk Time: 10.266 seconds \n",
      "[1] \"Data exported to SQL\"\n"
     ]
    }
   ],
   "source": [
    "# Upload the data set to SQL.\n",
    "\n",
    "## Specify the desired column types. \n",
    "## When uploading to SQL, Character and Factor are converted to nvarchar(255), Integer to Integer and Numeric to Float. \n",
    "column_types <-  c(eid = \"integer\",               \n",
    "                   vdate = \"character\",           \n",
    "                   rcount = \"character\",        \n",
    "                   gender = \"factor\",            \n",
    "                   dialysisrenalendstage = \"factor\",             \n",
    "                   asthma = \"factor\",                \n",
    "                   irondef = \"factor\",                   \n",
    "                   pneum = \"factor\",                 \n",
    "                   substancedependence = \"factor\",                  \n",
    "                   psychologicaldisordermajor = \"factor\",             \n",
    "                   depress = \"factor\",           \n",
    "                   psychother = \"factor\",        \n",
    "                   fibrosisandother = \"factor\",          \n",
    "                   malnutrition = \"factor\",                               \n",
    "                   hemo = \"numeric\",            \n",
    "                   hematocritic = \"numeric\",           \n",
    "                   neutrophils = \"numeric\",           \n",
    "                   sodium = \"numeric\",          \n",
    "                   glucose = \"numeric\",             \n",
    "                   bloodureanitro = \"numeric\",                 \n",
    "                   creatinine = \"numeric\",                 \n",
    "                   bmi = \"numeric\",                 \n",
    "                   pulse = \"numeric\",                  \n",
    "                   respiration = \"numeric\",                  \n",
    "                   secondarydiagnosisnonicd9 = \"factor\",\n",
    "                   discharged = \"character\",\n",
    "                   facid = \"factor\",\n",
    "                   lengthofstay = \"integer\")\n",
    "\n",
    "\n",
    "## Point to the input data set while specifying the classes.\n",
    "LoS_text <- RxTextData(file = \"LengthOfStay.csv\", colClasses = column_types)\n",
    "\n",
    "## Upload the table to SQL. \n",
    "LengthOfStay_sql <- RxSqlServerData(table = \"LengthOfStay\", connectionString = connection_string)\n",
    "rxDataStep(inData = LoS_text, outFile = LengthOfStay_sql, overwrite = TRUE)\n",
    "\n",
    "print(\"Data exported to SQL\")"
   ]
  },
  {
   "cell_type": "code",
   "execution_count": 9,
   "metadata": {
    "collapsed": false
   },
   "outputs": [
    {
     "name": "stdout",
     "output_type": "stream",
     "text": [
      "Rows Read: 50000, Total Rows Processed: 50000, Total Chunk Time: 1.203 seconds\n",
      "Rows Read: 50000, Total Rows Processed: 100000, Total Chunk Time: 1.188 seconds \n",
      "Computation time: 2.546 seconds.\n",
      "[1] \"No missing values.\"\n"
     ]
    }
   ],
   "source": [
    "# Determine if LengthOfStay has missing values\n",
    "\n",
    "table <- \"LengthOfStay\"\n",
    "\n",
    "# First, get the names and types of the variables to be treated.\n",
    "data_sql <- RxSqlServerData(table = table, connectionString = connection_string)\n",
    "col <- rxCreateColInfo(data_sql)\n",
    "\n",
    "# Then, get the names of the variables that actually have missing values. Assumption: no NA in eid. \n",
    "colnames <- names(col)\n",
    "var <- colnames[!colnames %in% c(\"eid\")]\n",
    "formula <- as.formula(paste(\"~\", paste(var, collapse = \"+\")))\n",
    "summary <- rxSummary(formula, data_sql, byTerm = TRUE)\n",
    "var_with_NA <- summary$sDataFrame[summary$sDataFrame$MissingObs > 0, 1] \n",
    "\n",
    "if(length(var_with_NA) == 0){\n",
    "  print(\"No missing values.\")\n",
    "  missing <- 0\n",
    "  \n",
    "} else{\n",
    "  print(\"Variables containing missing values are:\")\n",
    "  print(var_with_NA)\n",
    "  print(\"The NAs will be replaced with the mode or mean.\")\n",
    "  missing <- 1\n",
    "}    "
   ]
  },
  {
   "cell_type": "code",
   "execution_count": 14,
   "metadata": {
    "collapsed": false
   },
   "outputs": [
    {
     "name": "stdout",
     "output_type": "stream",
     "text": [
      "[1] \"Nothing to clean\"\n"
     ]
    }
   ],
   "source": [
    "# If applicable, NULL is replaced with the mode (categorical variables: integer or character) or mean (continuous variables).\n",
    "\n",
    "if(missing == 0){\n",
    "    print(\"Nothing to clean\")\n",
    "    LengthOfStay_cleaned_sql <- RxSqlServerData(table = table, connectionString = connection_string)\n",
    "} else{\n",
    "# Get the variables types (categortical vs. continuous) \n",
    "categ_names <- c()\n",
    "contin_names <- c()\n",
    "  for(name in var_with_NA){\n",
    "    if(col[[name]]$type == \"numeric\"){\n",
    "      contin_names[length(contin_names) + 1] <- name\n",
    "    } else{\n",
    "      categ_names[length(categ_names) + 1] <- name\n",
    "    }\n",
    "  }\n",
    "# For Categoricals: Compute the mode of the variables with SQL queries in table Modes. We then import Modes. \n",
    "rxExecuteSQLDDL(outOdbcDS, sSQLString = paste(\"DROP TABLE if exists Modes;\"\n",
    "                                              , sep=\"\"))\n",
    "\n",
    "rxExecuteSQLDDL(outOdbcDS, sSQLString = paste(\"CREATE TABLE Modes\n",
    "                                              (name varchar(30),\n",
    "                                              mode varchar(30));\"\n",
    "                                              , sep=\"\"))\n",
    "\n",
    "for(name in categ_names){\n",
    "  rxExecuteSQLDDL(outOdbcDS, sSQLString = sprintf(\"INSERT INTO Modes\n",
    "                                                  SELECT '%s', mode\n",
    "                                                  FROM (SELECT TOP(1) %s as mode, count(*) as cnt\n",
    "                                                  FROM %s\n",
    "                                                  GROUP BY %s \n",
    "                                                  ORDER BY cnt desc) as t;\",name, name, table, name))\n",
    "}\n",
    "Modes_sql <- RxSqlServerData(table = \"Modes\", connectionString = connection_string) \n",
    "Modes <- rxImport(Modes_sql)\n",
    "\n",
    "# For Continuous: Compute the mode of the variables with SQL queries in table Means. We then import Means. \n",
    "rxExecuteSQLDDL(outOdbcDS, sSQLString = paste(\"DROP TABLE if exists Means;\"\n",
    "                                              , sep=\"\"))\n",
    "\n",
    "rxExecuteSQLDDL(outOdbcDS, sSQLString = paste(\"CREATE TABLE Means\n",
    "                                              (name varchar(30),\n",
    "                                              mean float);\"\n",
    "                                              , sep=\"\"))\n",
    "\n",
    "for(name in contin_names){\n",
    "  rxExecuteSQLDDL(outOdbcDS, sSQLString = sprintf(\"INSERT INTO Means\n",
    "                                                  SELECT '%s', mean\n",
    "                                                  FROM (SELECT AVG(%s) as mean\n",
    "                                                  FROM %s) as t;\",name, name, table))\n",
    "}\n",
    "Means_sql <- RxSqlServerData(table = \"Means\", connectionString = connection_string) \n",
    "Means <- rxImport(Means_sql)\n",
    " \n",
    "# Function to replace missing values with the mode (categorical variables) or mean (continuous variables)\n",
    "fill_NA_mode_mean <- function(data){\n",
    "  data <- data.frame(data)\n",
    "  for(j in 1:length(categ)){\n",
    "    row_na <- which(is.na(data[,categ[j]]) == TRUE) \n",
    "    if(length(row_na > 0)){\n",
    "      data[row_na, categ[j]] <- subset(Mode, name == categ[j])[1,2]\n",
    "    }\n",
    "  }\n",
    "  for(j in 1:length(contin)){\n",
    "    row_na <- which(is.na(data[,contin[j]]) == TRUE) \n",
    "    if(length(row_na > 0)){\n",
    "      data[row_na, contin[j]] <- subset(Mean, name == contin[j])[1,2]\n",
    "    }\n",
    "  }\n",
    "  return(data)\n",
    "}\n",
    "\n",
    "# Apply this function to LeangthOfStay by wrapping it up in rxDataStep. Output is written to LoS0.   \n",
    "LoS0_sql <- RxSqlServerData(table = \"LoS0\", connectionString = connection_string)\n",
    "rxDataStep(inData = LengthOfStay_sql , outFile = LoS0_sql, overwrite = TRUE, transformFunc = fill_NA_mode_mean, \n",
    "           transformObjects = list(categ = categ_names, contin = contin_names, Mode = Modes, Mean = Means))\n",
    "   \n",
    "LengthOfStay_cleaned_sql <- RxSqlServerData(table = \"LoS0\", connectionString = connection_string)    \n",
    "    \n",
    "print(\"Data cleaned\")\n",
    "}\n"
   ]
  },
  {
   "cell_type": "markdown",
   "metadata": {},
   "source": [
    "## Step 2: Feature Engineering\n",
    "\n",
    "In this step, we:\n",
    "\n",
    "**1.** Standardize the continuous variables (Z-score).\n",
    "\n",
    "**2.** Create the variable number_of_issues: the number of preidentified medical conditions.\n",
    "\n",
    "**3.** Create the variable lengthofstay_bucket: bucketed version of the target variable for classification.\n",
    " \n",
    "\n",
    "**Input:** Data set before feature engineering LengthOfStay.\n",
    "\n",
    "**Output:** Data set with new features LoS."
   ]
  },
  {
   "cell_type": "code",
   "execution_count": 15,
   "metadata": {
    "collapsed": false
   },
   "outputs": [
    {
     "name": "stdout",
     "output_type": "stream",
     "text": [
      "Rows Read: 50000, Total Rows Processed: 50000, Total Chunk Time: 1.265 seconds\n",
      "Rows Read: 50000, Total Rows Processed: 100000, Total Chunk Time: 1.203 seconds \n",
      "Computation time: 2.609 seconds.\n",
      "Total Rows written: 50000, Total time: 4.375\n",
      "Rows Read: 50000, Total Rows Processed: 50000, Total Chunk Time: 6.219 secondsTotal Rows written: 50000, Total time: 4.359\n",
      "Rows Read: 50000, Total Rows Processed: 100000, Total Chunk Time: 6.109 seconds \n"
     ]
    },
    {
     "data": {
      "text/html": [
       "TRUE"
      ],
      "text/latex": [
       "TRUE"
      ],
      "text/markdown": [
       "TRUE"
      ],
      "text/plain": [
       "[1] TRUE"
      ]
     },
     "execution_count": 15,
     "metadata": {},
     "output_type": "execute_result"
    },
    {
     "data": {
      "text/html": [
       "TRUE"
      ],
      "text/latex": [
       "TRUE"
      ],
      "text/markdown": [
       "TRUE"
      ],
      "text/plain": [
       "[1] TRUE"
      ]
     },
     "execution_count": 15,
     "metadata": {},
     "output_type": "execute_result"
    },
    {
     "name": "stdout",
     "output_type": "stream",
     "text": [
      "[1] \"Feature Engineering Completed\"\n"
     ]
    }
   ],
   "source": [
    "# Get the mean and standard deviation of the variables to standardize.\n",
    "names <- c(\"hemo\", \"hematocritic\", \"neutrophils\", \"sodium\", \"glucose\", \"bloodureanitro\",\n",
    "           \"creatinine\", \"bmi\", \"pulse\", \"respiration\")\n",
    "summary <- rxSummary(formula = ~., LengthOfStay_cleaned_sql, byTerm = TRUE)$sDataFrame\n",
    "Statistics <- summary[summary$Name %in% names,c(\"Name\",\"Mean\",\"StdDev\")]\n",
    "\n",
    "# Function to standardize.\n",
    "standardize <- function(data){\n",
    "  data <- data.frame(data)\n",
    "  for(n in 1:nrow(Stats)){\n",
    "    data[[Stats[n,1]]] <- (data[[Stats[n,1]]] - Stats[n,2])/Stats[n,3]\n",
    "    }\n",
    "  return(data)\n",
    "}\n",
    "\n",
    "# Apply this function to the cleaned table by wrapping it up in rxDataStep. Output is written to LoS.  \n",
    "# At the same time, we create number_of_issues as the number of preidentified medical conditions.\n",
    "# We also create lengthofstay_bucket as the bucketed version of lengthofstay for classification. \n",
    "\n",
    "LoS_sql <- RxSqlServerData(table = \"LoS\", connectionString = connection_string)\n",
    "rxDataStep(inData = LengthOfStay_cleaned_sql , outFile = LoS_sql, overwrite = TRUE, transformFunc = standardize, \n",
    "           transformObjects = list(Stats = Statistics), transforms = list(\n",
    "             number_of_issues = as.numeric(dialysisrenalendstage) + as.numeric(asthma) + as.numeric(irondef) + \n",
    "                                as.numeric(pneum) + as.numeric(substancedependence) +\n",
    "                                as.numeric(psychologicaldisordermajor) + as.numeric(depress) + as.numeric(psychother) + \n",
    "                                as.numeric(fibrosisandother) + as.numeric(malnutrition),\n",
    "             lengthofstay_bucket = ifelse(lengthofstay < 4, \"1\",\n",
    "                                          ifelse(lengthofstay < 7, \"2\",\n",
    "                                                 ifelse(lengthofstay < 10, \"3\",\n",
    "                                                        \"4\")))))\n",
    "\n",
    "           \n",
    "# Converting number_of_issues to character with a SQL query because as.character in rxDataStep is crashing.           \n",
    "\n",
    "## Open a connection with SQL Server to be able to write queries with the rxExecuteSQLDDL function.\n",
    "outOdbcDS <- RxOdbcData(table = \"NewData\", connectionString = connection_string, useFastRead=TRUE)\n",
    "rxOpen(outOdbcDS, \"w\") \n",
    "\n",
    "## Convert number_of_issues to character.\n",
    "rxExecuteSQLDDL(outOdbcDS, sSQLString = paste(\"ALTER TABLE LoS ALTER COLUMN number_of_issues varchar(2);\", sep=\"\"))\n",
    "\n",
    "print(\"Feature Engineering Completed\")"
   ]
  },
  {
   "cell_type": "markdown",
   "metadata": {},
   "source": [
    "## Step 3-A: Training and Evaluating the Models: Classification Approach\n",
    "\n",
    "In this step we:\n",
    "\n",
    "**1.** Split LoS into a Training LoS_Train, and a Testing set LoS_Test.  \n",
    "\n",
    "**2.** Train classification Random Forest (RF) on LoS_Train, and save it to SQL. \n",
    "\n",
    "**3.** Score RF on LoS_Test.\n",
    "\n",
    "**Input:** Data set LoS.\n",
    "\n",
    "**Output:** Random forest saved to SQL and performance metrics.  "
   ]
  },
  {
   "cell_type": "code",
   "execution_count": 16,
   "metadata": {
    "collapsed": false
   },
   "outputs": [
    {
     "name": "stdout",
     "output_type": "stream",
     "text": [
      "[1] \"Column information received\"\n"
     ]
    }
   ],
   "source": [
    "# Point to the SQL table with the data set for modeling. Strings will be converted to factors.\n",
    "LoS <- RxSqlServerData(table = \"LoS\", connectionString = connection_string, stringsAsFactors = T)\n",
    "\n",
    "# Get variable names, types, and levels for factors and reorder the factors for clarity during evaluation.\n",
    "column_info <- rxCreateColInfo(LoS)\n",
    "column_info$lengthofstay_bucket$levels <- c(\"1\", \"2\", \"3\", \"4\")\n",
    "\n",
    "print(\"Column information received\")"
   ]
  },
  {
   "cell_type": "code",
   "execution_count": 17,
   "metadata": {
    "collapsed": false
   },
   "outputs": [
    {
     "data": {
      "text/html": [
       "TRUE"
      ],
      "text/latex": [
       "TRUE"
      ],
      "text/markdown": [
       "TRUE"
      ],
      "text/plain": [
       "[1] TRUE"
      ]
     },
     "execution_count": 17,
     "metadata": {},
     "output_type": "execute_result"
    },
    {
     "data": {
      "text/html": [
       "TRUE"
      ],
      "text/latex": [
       "TRUE"
      ],
      "text/markdown": [
       "TRUE"
      ],
      "text/plain": [
       "[1] TRUE"
      ]
     },
     "execution_count": 17,
     "metadata": {},
     "output_type": "execute_result"
    },
    {
     "data": {
      "text/html": [
       "TRUE"
      ],
      "text/latex": [
       "TRUE"
      ],
      "text/markdown": [
       "TRUE"
      ],
      "text/plain": [
       "[1] TRUE"
      ]
     },
     "execution_count": 17,
     "metadata": {},
     "output_type": "execute_result"
    },
    {
     "name": "stdout",
     "output_type": "stream",
     "text": [
      "[1] \"Splitting completed\"\n"
     ]
    }
   ],
   "source": [
    "# Randomly split the data into a training set and a testing set, with a splitting % p.\n",
    "# p % goes to the training set, and the rest goes to the testing set. Default is 70%. \n",
    "\n",
    "p <- \"70\" \n",
    "\n",
    "## Open a connection with SQL Server to be able to write queries with the rxExecuteSQLDDL function.\n",
    "outOdbcDS <- RxOdbcData(table = \"NewData\", connectionString = connection_string, useFastRead=TRUE)\n",
    "rxOpen(outOdbcDS, \"w\")\n",
    "\n",
    "## Create the Train_Id table containing Lead_Id of training set. \n",
    "rxExecuteSQLDDL(outOdbcDS, sSQLString = paste(\"DROP TABLE if exists Train_Id;\", sep=\"\"))\n",
    "\n",
    "rxExecuteSQLDDL(outOdbcDS, sSQLString = sprintf(\n",
    "  \"SELECT eid\n",
    "   INTO Train_Id\n",
    "   FROM LoS\n",
    "   WHERE ABS(CAST(BINARY_CHECKSUM(eid, NEWID()) as int)) %s < %s ;\"\n",
    "  ,\"% 100\", p ))\n",
    "\n",
    "## Point to the training set. It will be created on the fly when training models. \n",
    "LoS_Train <- RxSqlServerData(  \n",
    "  sqlQuery = \"SELECT *   \n",
    "              FROM LoS \n",
    "              WHERE eid IN (SELECT eid from Train_Id)\",\n",
    "  connectionString = connection_string, colInfo = column_info)\n",
    "\n",
    "## Point to the testing set. It will be created on the fly when testing models. \n",
    "LoS_Test <- RxSqlServerData(  \n",
    "  sqlQuery = \"SELECT *   \n",
    "              FROM LoS \n",
    "              WHERE eid NOT IN (SELECT eid from Train_Id)\",\n",
    "  connectionString = connection_string, colInfo = column_info)\n",
    "\n",
    "print(\"Splitting completed\")"
   ]
  },
  {
   "cell_type": "code",
   "execution_count": 19,
   "metadata": {
    "collapsed": false
   },
   "outputs": [
    {
     "name": "stdout",
     "output_type": "stream",
     "text": [
      "Rows Read: 50000, Total Rows Processed: 50000, Total Chunk Time: 0.109 seconds\n",
      "Rows Read: 20142, Total Rows Processed: 70142, Total Chunk Time: 0.016 seconds \n",
      "Computation time: 0.188 seconds.\n",
      "[1] \"Formula written and sampling rates computed\"\n"
     ]
    }
   ],
   "source": [
    "# Write the formula after removing variables not used in the modeling.\n",
    "variables_all <- rxGetVarNames(LoS)\n",
    "variables_to_remove <- c(\"eid\", \"vdate\", \"discharged\", \"lengthofstay\", \"facid\")\n",
    "traning_variables <- variables_all[!(variables_all %in% c(\"lengthofstay_bucket\", variables_to_remove))]\n",
    "formula <- as.formula(paste(\"lengthofstay_bucket ~\", paste(traning_variables, collapse = \"+\")))\n",
    "\n",
    "# In order to deal with class imbalance, we do a stratification sampling.\n",
    "# We take all observations in the smallest class  and we sample from the three other classes to have the same number.\n",
    "summary <- rxSummary(formula = ~ lengthofstay_bucket, LoS_Train)$categorical[[1]]\n",
    "strat_sampling <- function(){\n",
    "  min <- which.min(summary[,2])\n",
    "  return(c(summary[min,2]/summary[1,2], summary[min,2]/summary[2,2], summary[min,2]/summary[3,2],\n",
    "           summary[min,2]/summary[4,2]))\n",
    "}\n",
    "sampling_rate <- strat_sampling()\n",
    "\n",
    "print(\"Formula written and sampling rates computed\")"
   ]
  },
  {
   "cell_type": "code",
   "execution_count": 20,
   "metadata": {
    "collapsed": true
   },
   "outputs": [],
   "source": [
    "# Compute Context is set to SQL for model training.\n",
    "rxSetComputeContext(sql)"
   ]
  },
  {
   "cell_type": "code",
   "execution_count": 21,
   "metadata": {
    "collapsed": false
   },
   "outputs": [
    {
     "name": "stdout",
     "output_type": "stream",
     "text": [
      "[1] \"Training Classification RF done\"\n"
     ]
    }
   ],
   "source": [
    "# Train the Random Forest. \n",
    "forest_model_class <- rxDForest(formula = formula,\n",
    "                                data = LoS_Train,\n",
    "                                nTree = 40,\n",
    "                                minSplit = 10,\n",
    "                                minBucket = 5,\n",
    "                                cp = 0.00005,\n",
    "                                seed = 5, \n",
    "                                strata = c(\"lengthofstay_bucket\"),\n",
    "                                sampRate = sampling_rate)\n",
    "\n",
    "print(\"Training Classification RF done\")"
   ]
  },
  {
   "cell_type": "code",
   "execution_count": 22,
   "metadata": {
    "collapsed": false
   },
   "outputs": [
    {
     "name": "stdout",
     "output_type": "stream",
     "text": [
      "Rows Read: 880470, Total Rows Processed: 880470\n",
      "Total Rows written: 100000, Total time: 2.593\n",
      "Total Rows written: 200000, Total time: 5.234\n",
      "Total Rows written: 300000, Total time: 7.906\n",
      "Total Rows written: 400000, Total time: 10.531\n",
      "Total Rows written: 500000, Total time: 13.093\n",
      "Total Rows written: 600000, Total time: 15.656\n",
      "Total Rows written: 700000, Total time: 18.203\n",
      "Total Rows written: 800000, Total time: 20.828\n",
      "Total Rows written: 880470, Total time: 22.968\n",
      ", Total Chunk Time: 23.109 seconds \n",
      "[1] \"Classification RF model uploaded to SQL\"\n"
     ]
    }
   ],
   "source": [
    "# Save the Random Forest in SQL. The compute context is set to Local in order to export the model. \n",
    "rxSetComputeContext(local)\n",
    "saveRDS(forest_model_class, file = \"forest_model_class.rds\")\n",
    "forest_model_class_raw <- readBin(\"forest_model_class.rds\", \"raw\", n = file.size(\"forest_model_class.rds\"))\n",
    "forest_model_class_char <- as.character(forest_model_class_raw)\n",
    "forest_model_class_sql <- RxSqlServerData(table = \"Models_Class\", connectionString = connection_string) \n",
    "rxDataStep(inData = data.frame(x = forest_model_class_char ), outFile = forest_model_class_sql, overwrite = TRUE)\n",
    "\n",
    "print(\"Classification RF model uploaded to SQL\")"
   ]
  },
  {
   "cell_type": "code",
   "execution_count": 23,
   "metadata": {
    "collapsed": true
   },
   "outputs": [],
   "source": [
    "# Multi-class classification model evaluation metrics\n",
    "\n",
    "evaluate_model_class <- function(observed, predicted, model) {\n",
    "  confusion <- table(observed, predicted)\n",
    "  num_classes <- nlevels(observed)\n",
    "  tp <- rep(0, num_classes)\n",
    "  fn <- rep(0, num_classes)\n",
    "  fp <- rep(0, num_classes)\n",
    "  tn <- rep(0, num_classes)\n",
    "  accuracy <- rep(0, num_classes)\n",
    "  precision <- rep(0, num_classes)\n",
    "  recall <- rep(0, num_classes)\n",
    "  for(i in 1:num_classes) {\n",
    "    tp[i] <- sum(confusion[i, i])\n",
    "    fn[i] <- sum(confusion[-i, i])\n",
    "    fp[i] <- sum(confusion[i, -i])\n",
    "    tn[i] <- sum(confusion[-i, -i])\n",
    "    accuracy[i] <- (tp[i] + tn[i]) / (tp[i] + fn[i] + fp[i] + tn[i])\n",
    "    precision[i] <- tp[i] / (tp[i] + fp[i])\n",
    "    recall[i] <- tp[i] / (tp[i] + fn[i])\n",
    "  }\n",
    "  overall_accuracy <- sum(tp) / sum(confusion)\n",
    "  average_accuracy <- sum(accuracy) / num_classes\n",
    "  micro_precision <- sum(tp) / (sum(tp) + sum(fp))\n",
    "  macro_precision <- sum(precision) / num_classes\n",
    "  micro_recall <- sum(tp) / (sum(tp) + sum(fn))\n",
    "  macro_recall <- sum(recall) / num_classes\n",
    "  metrics <- c(\"Overall accuracy\" = overall_accuracy,\n",
    "               \"Average accuracy\" = average_accuracy,\n",
    "               \"Micro-averaged Precision\" = micro_precision,\n",
    "               \"Macro-averaged Precision\" = macro_precision,\n",
    "               \"Micro-averaged Recall\" = micro_recall,\n",
    "               \"Macro-averaged Recall\" = macro_recall)\n",
    "  print(model)\n",
    "  print(metrics)\n",
    "  print(confusion)\n",
    "  return(metrics)\n",
    "}"
   ]
  },
  {
   "cell_type": "code",
   "execution_count": 25,
   "metadata": {
    "collapsed": false
   },
   "outputs": [
    {
     "name": "stdout",
     "output_type": "stream",
     "text": [
      "Rows Read: 29858, Total Rows Processed: 29858, Total Chunk Time: 1.656 seconds\n",
      "Total Rows written: 29858, Total time: 0.921\n",
      " \n",
      "Rows Read: 29858, Total Rows Processed: 29858, Total Chunk Time: 0.203 seconds \n",
      "[1] \"RF\"\n",
      "        Overall accuracy         Average accuracy Micro-averaged Precision \n",
      "               0.7099605                0.8549802                0.7099605 \n",
      "Macro-averaged Precision    Micro-averaged Recall    Macro-averaged Recall \n",
      "               0.7703876                0.7099605                0.6466639 \n",
      "        predicted\n",
      "observed     1     2     3     4\n",
      "       1  6013    13     0     0\n",
      "       2  4308 10120  1978    14\n",
      "       3    70  1124  4288   961\n",
      "       4     1    60   131   777\n",
      "[1] \"Scoring Classification RF done\"\n"
     ]
    }
   ],
   "source": [
    "# Classification Random Forest Scoring\n",
    "\n",
    "# Make Predictions, then import them into R. The observed Conversion_Flag is kept through the argument extraVarsToWrite.\n",
    "Prediction_Table_RF_Class <- RxSqlServerData(table = \"Forest_Prediction_Class\", stringsAsFactors = T, connectionString = connection_string)\n",
    "rxPredict(forest_model_class, data = LoS_Test, outData = Prediction_Table_RF_Class, overwrite = T, type = \"prob\",\n",
    "          extraVarsToWrite = c(\"lengthofstay_bucket\", \"eid\"))\n",
    "\n",
    "Prediction_RF_Class <- rxImport(inData = Prediction_Table_RF_Class, stringsAsFactors = T, outFile = NULL)\n",
    "\n",
    "# Compute the performance metrics of the model.\n",
    "Metrics_RF_Class <- evaluate_model_class(observed = factor(Prediction_RF_Class$lengthofstay_bucket, levels = c(\"1\",\"2\",\"3\",\"4\")),\n",
    "                                         predicted = factor(Prediction_RF_Class$lengthofstay_bucket_Pred, levels = c(\"1\",\"2\",\"3\",\"4\")),\n",
    "                                         model = \"RF\")\n",
    "\n",
    "print(\"Scoring Classification RF done\")"
   ]
  },
  {
   "cell_type": "markdown",
   "metadata": {},
   "source": [
    "## Step 3-B: Training and Evaluating the Models: Regression Approach\n",
    "\n",
    "In this step we:\n",
    " \n",
    "**1.** Train regression Random Forest (RF) on LoS_Train, and save it to SQL. \n",
    "\n",
    "**2.** Score RF on LoS_Test.\n",
    "\n",
    "**Input:** Data set LoS.\n",
    "\n",
    "**Output:** Random forest model saved to SQL and performance metrics. "
   ]
  },
  {
   "cell_type": "code",
   "execution_count": 33,
   "metadata": {
    "collapsed": false
   },
   "outputs": [
    {
     "name": "stdout",
     "output_type": "stream",
     "text": [
      "[1] \"Formula written\"\n"
     ]
    }
   ],
   "source": [
    "# Write the formula after removing variables not used in the modeling.\n",
    "variables_all <- rxGetVarNames(LoS)\n",
    "variables_to_remove <- c(\"eid\", \"vdate\", \"discharged\", \"lengthofstay_bucket\", \"facid\")\n",
    "traning_variables <- variables_all[!(variables_all %in% c(\"lengthofstay\", variables_to_remove))]\n",
    "formula <- as.formula(paste(\"lengthofstay ~\", paste(traning_variables, collapse = \"+\")))\n",
    "\n",
    "print(\"Formula written\")"
   ]
  },
  {
   "cell_type": "code",
   "execution_count": 34,
   "metadata": {
    "collapsed": true
   },
   "outputs": [],
   "source": [
    "# Compute Context is set to SQL for model training.\n",
    "rxSetComputeContext(sql)"
   ]
  },
  {
   "cell_type": "code",
   "execution_count": 35,
   "metadata": {
    "collapsed": false
   },
   "outputs": [
    {
     "name": "stdout",
     "output_type": "stream",
     "text": [
      "[1] \"Training Regression RF done\"\n"
     ]
    }
   ],
   "source": [
    "# Train the Random Forest.\n",
    "forest_model_reg <- rxDForest(formula = formula,\n",
    "                              data = LoS_Train,\n",
    "                              nTree = 40,\n",
    "                              minSplit = 10,\n",
    "                              minBucket = 5,\n",
    "                              cp = 0.00005,\n",
    "                              seed = 5)\n",
    "\n",
    "print(\"Training Regression RF done\")"
   ]
  },
  {
   "cell_type": "code",
   "execution_count": 36,
   "metadata": {
    "collapsed": false
   },
   "outputs": [
    {
     "name": "stdout",
     "output_type": "stream",
     "text": [
      "Rows Read: 1065856, Total Rows Processed: 1065856\n",
      "Total Rows written: 100000, Total time: 2.562\n",
      "Total Rows written: 200000, Total time: 5.125\n",
      "Total Rows written: 300000, Total time: 7.656\n",
      "Total Rows written: 400000, Total time: 10.312\n",
      "Total Rows written: 500000, Total time: 13.078\n",
      "Total Rows written: 600000, Total time: 15.624\n",
      "Total Rows written: 700000, Total time: 18.187\n",
      "Total Rows written: 800000, Total time: 20.749\n",
      "Total Rows written: 900000, Total time: 23.296\n",
      "Total Rows written: 1000000, Total time: 26.015\n",
      "Total Rows written: 1065856, Total time: 27.812\n",
      ", Total Chunk Time: 27.874 seconds \n",
      "[1] \"RF Regression model uploaded to SQL\"\n"
     ]
    }
   ],
   "source": [
    "# Save the Random Forest in SQL. The compute context is set to Local in order to export the model. \n",
    "rxSetComputeContext(local)\n",
    "saveRDS(forest_model_reg, file = \"forest_model_reg.rds\")\n",
    "forest_model_reg_raw <- readBin(\"forest_model_reg.rds\", \"raw\", n = file.size(\"forest_model_reg.rds\"))\n",
    "forest_model_reg_char <- as.character(forest_model_reg_raw)\n",
    "forest_model_reg_sql <- RxSqlServerData(table = \"Models_Reg\", connectionString = connection_string) \n",
    "rxDataStep(inData = data.frame(x = forest_model_reg_char ), outFile = forest_model_reg_sql, overwrite = TRUE)\n",
    "\n",
    "# Set back the compute context to SQL.\n",
    "rxSetComputeContext(sql)\n",
    "\n",
    "print(\"RF Regression model uploaded to SQL\")"
   ]
  },
  {
   "cell_type": "code",
   "execution_count": 37,
   "metadata": {
    "collapsed": true
   },
   "outputs": [],
   "source": [
    "# Write a function that computes regression performance metrics. \n",
    "evaluate_model_reg <- function(observed, predicted, model) {\n",
    "  mean_observed <- mean(observed)\n",
    "  se <- (observed - predicted)^2\n",
    "  ae <- abs(observed - predicted)\n",
    "  sem <- (observed - mean_observed)^2\n",
    "  aem <- abs(observed - mean_observed)\n",
    "  mae <- mean(ae)\n",
    "  rmse <- sqrt(mean(se))\n",
    "  rae <- sum(ae) / sum(aem)\n",
    "  rse <- sum(se) / sum(sem)\n",
    "  rsq <- 1 - rse\n",
    "  metrics <- c(\"Mean Absolute Error\" = mae,\n",
    "               \"Root Mean Squared Error\" = rmse,\n",
    "               \"Relative Absolute Error\" = rae,\n",
    "               \"Relative Squared Error\" = rse,\n",
    "               \"Coefficient of Determination\" = rsq)\n",
    "  print(model)\n",
    "  print(metrics)\n",
    "  print(\"Summary statistics of the absolute error\")\n",
    "  print(summary(abs(observed-predicted)))\n",
    "  return(metrics)\n",
    "}"
   ]
  },
  {
   "cell_type": "code",
   "execution_count": 38,
   "metadata": {
    "collapsed": false
   },
   "outputs": [
    {
     "name": "stdout",
     "output_type": "stream",
     "text": [
      "Rows Read: 29858, Total Rows Processed: 29858, Total Chunk Time: 0.015 seconds \n",
      "[1] \"RF\"\n",
      "         Mean Absolute Error      Root Mean Squared Error \n",
      "                   0.6274529                    0.8466414 \n",
      "     Relative Absolute Error       Relative Squared Error \n",
      "                   0.3837478                    0.1751443 \n",
      "Coefficient of Determination \n",
      "                   0.8248557 \n",
      "[1] \"Summary statistics of the absolute error\"\n",
      "    Min.  1st Qu.   Median     Mean  3rd Qu.     Max. \n",
      "0.000181 0.298100 0.541900 0.627500 0.765400 6.907000 \n",
      "[1] \"Scoring Regression RF done\"\n"
     ]
    }
   ],
   "source": [
    "# Regression Random Forest Scoring \n",
    "\n",
    "# Make Predictions, then import them into R. The observed Conversion_Flag is kept through the argument extraVarsToWrite.\n",
    "Prediction_Table_RF_Reg <- RxSqlServerData(table = \"Forest_Prediction_Reg\", stringsAsFactors = T, connectionString = connection_string)\n",
    "rxPredict(forest_model_reg, data = LoS_Test, outData = Prediction_Table_RF_Reg, overwrite = T, type = \"response\",\n",
    "          extraVarsToWrite = c(\"lengthofstay\", \"eid\"))\n",
    "\n",
    "Prediction_RF_Reg<- rxImport(inData = Prediction_Table_RF_Reg, stringsAsFactors = T, outFile = NULL)\n",
    "\n",
    "# Compute the performance metrics of the model.\n",
    "Metrics_RF_Reg <- evaluate_model_reg(observed = Prediction_RF_Reg$lengthofstay,\n",
    "                                    predicted = Prediction_RF_Reg$lengthofstay_Pred,\n",
    "                                    model = \"RF\")\n",
    "print(\"Scoring Regression RF done\")"
   ]
  }
 ],
 "metadata": {
  "celltoolbar": "Raw Cell Format",
  "kernelspec": {
   "display_name": "R",
   "language": "R",
   "name": "ir"
  },
  "language_info": {
   "codemirror_mode": "r",
   "file_extension": ".r",
   "mimetype": "text/x-r-source",
   "name": "R",
   "pygments_lexer": "r",
   "version": "3.3.1"
  }
 },
 "nbformat": 4,
 "nbformat_minor": 0
}
